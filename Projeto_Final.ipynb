{
  "nbformat": 4,
  "nbformat_minor": 0,
  "metadata": {
    "colab": {
      "provenance": [],
      "authorship_tag": "ABX9TyOoBbSM4qDKlgqTF8GHKVa3",
      "include_colab_link": true
    },
    "kernelspec": {
      "name": "python3",
      "display_name": "Python 3"
    },
    "language_info": {
      "name": "python"
    }
  },
  "cells": [
    {
      "cell_type": "markdown",
      "metadata": {
        "id": "view-in-github",
        "colab_type": "text"
      },
      "source": [
        "<a href=\"https://colab.research.google.com/github/joaocosentino/asl-ml-immersion/blob/master/Projeto_Final.ipynb\" target=\"_parent\"><img src=\"https://colab.research.google.com/assets/colab-badge.svg\" alt=\"Open In Colab\"/></a>"
      ]
    },
    {
      "cell_type": "markdown",
      "source": [
        "##**Projeto Final - Mapeamento de Dados em Estruturas de Árvores**\n"
      ],
      "metadata": {
        "id": "aEcrXmyah-PD"
      }
    },
    {
      "cell_type": "markdown",
      "source": [
        "### **Metodologia**"
      ],
      "metadata": {
        "id": "ee0efM5XcaSZ"
      }
    },
    {
      "cell_type": "markdown",
      "source": [
        "A ideia do projeto é realizar o comparativo com relação ao desempenho de dois tipos de dados abstratos não lineares: **Árvores Binárias de Busca** e **Árvores AVL**.Abaixo temos algum dos métodos utilizados para medir a diferença de desempenho entre as duas:\n",
        "1. Criação da Árvore\n",
        "2. Busca por Elemento\n",
        "3. Inserção de Elemento\n",
        "4. Remoção de Elemento\n",
        "\n",
        "A análise de cada um deles será feita através da aplicação de um dataset que contem transações bancárias de contas da Europa no ano de 2023. O data set possui mais de 550.000 registros anonimizados. Porém devido ao uso do Google Colab o dataset foi restringido a aproximadamente 110.000 registros.\n",
        "\n",
        "\n",
        "\n",
        "> Para avaliar o desempenho utilizando os métodos citados acima, a massa de dados foi dividida em 3 tamanhos diferentes e nas seguintes combinações:\n",
        "\n",
        "\n",
        "*    Busca, Inserção e remoção com massas de dados de 500, 2.500 e 10.000 registros bancários\n",
        "*    Cada método foi testado com massas em **ordem crescente, decrescente e randomizada**\n",
        "\n",
        "\n",
        "\n",
        "\n"
      ],
      "metadata": {
        "id": "rqPSs6kOceLQ"
      }
    },
    {
      "cell_type": "markdown",
      "source": [
        "Para realizar o experimento, será utiliazda a linguagem de programação ***Python***, que é uma linguagem de alto nível de abstração interpretada por script. A ferramenta escolhida como ambiente de desenvolvimento foi o ***Google Colab***, que se utiliza da estrutura do ***Jupyter Notebooks*** uma das ferramentas mais completas e que permite a utilização de diversas bibliotecas python para ***Data Science***.\n",
        "Assim como a linguagem de programação e o ambiente de desenvolvimento, as características da máquina onde serão executados os algoritimos é de extrema relevância na avaliação e comparação de performance. A seguir estão as características físicas e de software (**Sistema Operacional**) utilizados no projeto:\n",
        "* Procesasdor: **12th Gen Intel(R) Core(TM) i7-12700H   2.70 GHz**\n",
        "* Memória RAM: **16GB DDR5 4800MHz**\n",
        "* Armazenamento: **1TB SSD M.2 2280 PCIe Gen4 TLC**\n",
        "* Sistema Operacional: **Windows 11 Home**"
      ],
      "metadata": {
        "id": "SzvQ_LsIe1he"
      }
    },
    {
      "cell_type": "markdown",
      "source": [
        "###Imports das Bibliotecas"
      ],
      "metadata": {
        "id": "Mt91nXgFiQUN"
      }
    },
    {
      "cell_type": "code",
      "execution_count": null,
      "metadata": {
        "id": "h7awDOksh73c"
      },
      "outputs": [],
      "source": [
        "import pandas as pd\n",
        "import numpy as np\n",
        "import plotly\n",
        "from google.colab import files\n",
        "import io\n",
        "import re\n",
        "import sys\n",
        "import resource\n",
        "import os\n",
        "import time\n",
        "import sweetviz as sv\n",
        "from IPython.display import display\n",
        "from PIL import Image\n",
        "import random"
      ]
    },
    {
      "cell_type": "markdown",
      "source": [
        "## Aumentando Limite Recursivo"
      ],
      "metadata": {
        "id": "FrP4KdccPqoD"
      }
    },
    {
      "cell_type": "code",
      "source": [
        "sys.setrecursionlimit(10000000)\n",
        "memory_limit = 12*1024*1024*1024\n",
        "resource.setrlimit(resource.RLIMIT_DATA,(memory_limit,memory_limit))"
      ],
      "metadata": {
        "id": "fO4H5R_zPqP5"
      },
      "execution_count": null,
      "outputs": []
    },
    {
      "cell_type": "markdown",
      "source": [
        "## Leitura da base de dados"
      ],
      "metadata": {
        "id": "PquNKekBjAeI"
      }
    },
    {
      "cell_type": "code",
      "source": [
        "upload = files.upload()\n"
      ],
      "metadata": {
        "id": "-724vjiti6q4",
        "colab": {
          "base_uri": "https://localhost:8080/",
          "height": 142
        },
        "outputId": "ca82280a-27db-4849-925b-2a6a8fe9951f"
      },
      "execution_count": null,
      "outputs": [
        {
          "output_type": "display_data",
          "data": {
            "text/plain": [
              "<IPython.core.display.HTML object>"
            ],
            "text/html": [
              "\n",
              "     <input type=\"file\" id=\"files-30a4720d-7154-44b2-9ee4-83813c27cedf\" name=\"files[]\" multiple disabled\n",
              "        style=\"border:none\" />\n",
              "     <output id=\"result-30a4720d-7154-44b2-9ee4-83813c27cedf\">\n",
              "      Upload widget is only available when the cell has been executed in the\n",
              "      current browser session. Please rerun this cell to enable.\n",
              "      </output>\n",
              "      <script>// Copyright 2017 Google LLC\n",
              "//\n",
              "// Licensed under the Apache License, Version 2.0 (the \"License\");\n",
              "// you may not use this file except in compliance with the License.\n",
              "// You may obtain a copy of the License at\n",
              "//\n",
              "//      http://www.apache.org/licenses/LICENSE-2.0\n",
              "//\n",
              "// Unless required by applicable law or agreed to in writing, software\n",
              "// distributed under the License is distributed on an \"AS IS\" BASIS,\n",
              "// WITHOUT WARRANTIES OR CONDITIONS OF ANY KIND, either express or implied.\n",
              "// See the License for the specific language governing permissions and\n",
              "// limitations under the License.\n",
              "\n",
              "/**\n",
              " * @fileoverview Helpers for google.colab Python module.\n",
              " */\n",
              "(function(scope) {\n",
              "function span(text, styleAttributes = {}) {\n",
              "  const element = document.createElement('span');\n",
              "  element.textContent = text;\n",
              "  for (const key of Object.keys(styleAttributes)) {\n",
              "    element.style[key] = styleAttributes[key];\n",
              "  }\n",
              "  return element;\n",
              "}\n",
              "\n",
              "// Max number of bytes which will be uploaded at a time.\n",
              "const MAX_PAYLOAD_SIZE = 100 * 1024;\n",
              "\n",
              "function _uploadFiles(inputId, outputId) {\n",
              "  const steps = uploadFilesStep(inputId, outputId);\n",
              "  const outputElement = document.getElementById(outputId);\n",
              "  // Cache steps on the outputElement to make it available for the next call\n",
              "  // to uploadFilesContinue from Python.\n",
              "  outputElement.steps = steps;\n",
              "\n",
              "  return _uploadFilesContinue(outputId);\n",
              "}\n",
              "\n",
              "// This is roughly an async generator (not supported in the browser yet),\n",
              "// where there are multiple asynchronous steps and the Python side is going\n",
              "// to poll for completion of each step.\n",
              "// This uses a Promise to block the python side on completion of each step,\n",
              "// then passes the result of the previous step as the input to the next step.\n",
              "function _uploadFilesContinue(outputId) {\n",
              "  const outputElement = document.getElementById(outputId);\n",
              "  const steps = outputElement.steps;\n",
              "\n",
              "  const next = steps.next(outputElement.lastPromiseValue);\n",
              "  return Promise.resolve(next.value.promise).then((value) => {\n",
              "    // Cache the last promise value to make it available to the next\n",
              "    // step of the generator.\n",
              "    outputElement.lastPromiseValue = value;\n",
              "    return next.value.response;\n",
              "  });\n",
              "}\n",
              "\n",
              "/**\n",
              " * Generator function which is called between each async step of the upload\n",
              " * process.\n",
              " * @param {string} inputId Element ID of the input file picker element.\n",
              " * @param {string} outputId Element ID of the output display.\n",
              " * @return {!Iterable<!Object>} Iterable of next steps.\n",
              " */\n",
              "function* uploadFilesStep(inputId, outputId) {\n",
              "  const inputElement = document.getElementById(inputId);\n",
              "  inputElement.disabled = false;\n",
              "\n",
              "  const outputElement = document.getElementById(outputId);\n",
              "  outputElement.innerHTML = '';\n",
              "\n",
              "  const pickedPromise = new Promise((resolve) => {\n",
              "    inputElement.addEventListener('change', (e) => {\n",
              "      resolve(e.target.files);\n",
              "    });\n",
              "  });\n",
              "\n",
              "  const cancel = document.createElement('button');\n",
              "  inputElement.parentElement.appendChild(cancel);\n",
              "  cancel.textContent = 'Cancel upload';\n",
              "  const cancelPromise = new Promise((resolve) => {\n",
              "    cancel.onclick = () => {\n",
              "      resolve(null);\n",
              "    };\n",
              "  });\n",
              "\n",
              "  // Wait for the user to pick the files.\n",
              "  const files = yield {\n",
              "    promise: Promise.race([pickedPromise, cancelPromise]),\n",
              "    response: {\n",
              "      action: 'starting',\n",
              "    }\n",
              "  };\n",
              "\n",
              "  cancel.remove();\n",
              "\n",
              "  // Disable the input element since further picks are not allowed.\n",
              "  inputElement.disabled = true;\n",
              "\n",
              "  if (!files) {\n",
              "    return {\n",
              "      response: {\n",
              "        action: 'complete',\n",
              "      }\n",
              "    };\n",
              "  }\n",
              "\n",
              "  for (const file of files) {\n",
              "    const li = document.createElement('li');\n",
              "    li.append(span(file.name, {fontWeight: 'bold'}));\n",
              "    li.append(span(\n",
              "        `(${file.type || 'n/a'}) - ${file.size} bytes, ` +\n",
              "        `last modified: ${\n",
              "            file.lastModifiedDate ? file.lastModifiedDate.toLocaleDateString() :\n",
              "                                    'n/a'} - `));\n",
              "    const percent = span('0% done');\n",
              "    li.appendChild(percent);\n",
              "\n",
              "    outputElement.appendChild(li);\n",
              "\n",
              "    const fileDataPromise = new Promise((resolve) => {\n",
              "      const reader = new FileReader();\n",
              "      reader.onload = (e) => {\n",
              "        resolve(e.target.result);\n",
              "      };\n",
              "      reader.readAsArrayBuffer(file);\n",
              "    });\n",
              "    // Wait for the data to be ready.\n",
              "    let fileData = yield {\n",
              "      promise: fileDataPromise,\n",
              "      response: {\n",
              "        action: 'continue',\n",
              "      }\n",
              "    };\n",
              "\n",
              "    // Use a chunked sending to avoid message size limits. See b/62115660.\n",
              "    let position = 0;\n",
              "    do {\n",
              "      const length = Math.min(fileData.byteLength - position, MAX_PAYLOAD_SIZE);\n",
              "      const chunk = new Uint8Array(fileData, position, length);\n",
              "      position += length;\n",
              "\n",
              "      const base64 = btoa(String.fromCharCode.apply(null, chunk));\n",
              "      yield {\n",
              "        response: {\n",
              "          action: 'append',\n",
              "          file: file.name,\n",
              "          data: base64,\n",
              "        },\n",
              "      };\n",
              "\n",
              "      let percentDone = fileData.byteLength === 0 ?\n",
              "          100 :\n",
              "          Math.round((position / fileData.byteLength) * 100);\n",
              "      percent.textContent = `${percentDone}% done`;\n",
              "\n",
              "    } while (position < fileData.byteLength);\n",
              "  }\n",
              "\n",
              "  // All done.\n",
              "  yield {\n",
              "    response: {\n",
              "      action: 'complete',\n",
              "    }\n",
              "  };\n",
              "}\n",
              "\n",
              "scope.google = scope.google || {};\n",
              "scope.google.colab = scope.google.colab || {};\n",
              "scope.google.colab._files = {\n",
              "  _uploadFiles,\n",
              "  _uploadFilesContinue,\n",
              "};\n",
              "})(self);\n",
              "</script> "
            ]
          },
          "metadata": {}
        },
        {
          "output_type": "stream",
          "name": "stdout",
          "text": [
            "Saving Busca.jpg to Busca (1).jpg\n",
            "Saving Inserção.jpg to Inserção (1).jpg\n",
            "Saving Remoções.jpg to Remoções (1).jpg\n"
          ]
        }
      ]
    },
    {
      "cell_type": "code",
      "source": [
        "df_base = pd.read_csv('creditcard.csv')\n",
        "df_base.head()"
      ],
      "metadata": {
        "colab": {
          "base_uri": "https://localhost:8080/",
          "height": 255
        },
        "id": "bmbrKM0Nw5yB",
        "outputId": "badabd99-bb36-4a2a-8db7-c8162021bb90"
      },
      "execution_count": null,
      "outputs": [
        {
          "output_type": "execute_result",
          "data": {
            "text/plain": [
              "   id        V1        V2        V3        V4        V5        V6        V7  \\\n",
              "0   0 -0.260648 -0.469648  2.496266 -0.083724  0.129681  0.732898  0.519014   \n",
              "1   1  0.985100 -0.356045  0.558056 -0.429654  0.277140  0.428605  0.406466   \n",
              "2   2 -0.260272 -0.949385  1.728538 -0.457986  0.074062  1.419481  0.743511   \n",
              "3   3 -0.152152 -0.508959  1.746840 -1.090178  0.249486  1.143312  0.518269   \n",
              "4   4 -0.206820 -0.165280  1.527053 -0.448293  0.106125  0.530549  0.658849   \n",
              "\n",
              "         V8        V9  ...       V21       V22       V23       V24       V25  \\\n",
              "0 -0.130006  0.727159  ... -0.110552  0.217606 -0.134794  0.165959  0.126280   \n",
              "1 -0.133118  0.347452  ... -0.194936 -0.605761  0.079469 -0.577395  0.190090   \n",
              "2 -0.095576 -0.261297  ... -0.005020  0.702906  0.945045 -1.154666 -0.605564   \n",
              "3 -0.065130 -0.205698  ... -0.146927 -0.038212 -0.214048 -1.893131  1.003963   \n",
              "4 -0.212660  1.049921  ... -0.106984  0.729727 -0.161666  0.312561 -0.414116   \n",
              "\n",
              "        V26       V27       V28    Amount  Class  \n",
              "0 -0.434824 -0.081230 -0.151045  17982.10      0  \n",
              "1  0.296503 -0.248052 -0.064512   6531.37      0  \n",
              "2 -0.312895 -0.300258 -0.244718   2513.54      0  \n",
              "3 -0.515950 -0.165316  0.048424   5384.44      0  \n",
              "4  1.071126  0.023712  0.419117  14278.97      0  \n",
              "\n",
              "[5 rows x 31 columns]"
            ],
            "text/html": [
              "\n",
              "  <div id=\"df-6f69ead6-8a9b-4581-8002-71f5209ba7fb\" class=\"colab-df-container\">\n",
              "    <div>\n",
              "<style scoped>\n",
              "    .dataframe tbody tr th:only-of-type {\n",
              "        vertical-align: middle;\n",
              "    }\n",
              "\n",
              "    .dataframe tbody tr th {\n",
              "        vertical-align: top;\n",
              "    }\n",
              "\n",
              "    .dataframe thead th {\n",
              "        text-align: right;\n",
              "    }\n",
              "</style>\n",
              "<table border=\"1\" class=\"dataframe\">\n",
              "  <thead>\n",
              "    <tr style=\"text-align: right;\">\n",
              "      <th></th>\n",
              "      <th>id</th>\n",
              "      <th>V1</th>\n",
              "      <th>V2</th>\n",
              "      <th>V3</th>\n",
              "      <th>V4</th>\n",
              "      <th>V5</th>\n",
              "      <th>V6</th>\n",
              "      <th>V7</th>\n",
              "      <th>V8</th>\n",
              "      <th>V9</th>\n",
              "      <th>...</th>\n",
              "      <th>V21</th>\n",
              "      <th>V22</th>\n",
              "      <th>V23</th>\n",
              "      <th>V24</th>\n",
              "      <th>V25</th>\n",
              "      <th>V26</th>\n",
              "      <th>V27</th>\n",
              "      <th>V28</th>\n",
              "      <th>Amount</th>\n",
              "      <th>Class</th>\n",
              "    </tr>\n",
              "  </thead>\n",
              "  <tbody>\n",
              "    <tr>\n",
              "      <th>0</th>\n",
              "      <td>0</td>\n",
              "      <td>-0.260648</td>\n",
              "      <td>-0.469648</td>\n",
              "      <td>2.496266</td>\n",
              "      <td>-0.083724</td>\n",
              "      <td>0.129681</td>\n",
              "      <td>0.732898</td>\n",
              "      <td>0.519014</td>\n",
              "      <td>-0.130006</td>\n",
              "      <td>0.727159</td>\n",
              "      <td>...</td>\n",
              "      <td>-0.110552</td>\n",
              "      <td>0.217606</td>\n",
              "      <td>-0.134794</td>\n",
              "      <td>0.165959</td>\n",
              "      <td>0.126280</td>\n",
              "      <td>-0.434824</td>\n",
              "      <td>-0.081230</td>\n",
              "      <td>-0.151045</td>\n",
              "      <td>17982.10</td>\n",
              "      <td>0</td>\n",
              "    </tr>\n",
              "    <tr>\n",
              "      <th>1</th>\n",
              "      <td>1</td>\n",
              "      <td>0.985100</td>\n",
              "      <td>-0.356045</td>\n",
              "      <td>0.558056</td>\n",
              "      <td>-0.429654</td>\n",
              "      <td>0.277140</td>\n",
              "      <td>0.428605</td>\n",
              "      <td>0.406466</td>\n",
              "      <td>-0.133118</td>\n",
              "      <td>0.347452</td>\n",
              "      <td>...</td>\n",
              "      <td>-0.194936</td>\n",
              "      <td>-0.605761</td>\n",
              "      <td>0.079469</td>\n",
              "      <td>-0.577395</td>\n",
              "      <td>0.190090</td>\n",
              "      <td>0.296503</td>\n",
              "      <td>-0.248052</td>\n",
              "      <td>-0.064512</td>\n",
              "      <td>6531.37</td>\n",
              "      <td>0</td>\n",
              "    </tr>\n",
              "    <tr>\n",
              "      <th>2</th>\n",
              "      <td>2</td>\n",
              "      <td>-0.260272</td>\n",
              "      <td>-0.949385</td>\n",
              "      <td>1.728538</td>\n",
              "      <td>-0.457986</td>\n",
              "      <td>0.074062</td>\n",
              "      <td>1.419481</td>\n",
              "      <td>0.743511</td>\n",
              "      <td>-0.095576</td>\n",
              "      <td>-0.261297</td>\n",
              "      <td>...</td>\n",
              "      <td>-0.005020</td>\n",
              "      <td>0.702906</td>\n",
              "      <td>0.945045</td>\n",
              "      <td>-1.154666</td>\n",
              "      <td>-0.605564</td>\n",
              "      <td>-0.312895</td>\n",
              "      <td>-0.300258</td>\n",
              "      <td>-0.244718</td>\n",
              "      <td>2513.54</td>\n",
              "      <td>0</td>\n",
              "    </tr>\n",
              "    <tr>\n",
              "      <th>3</th>\n",
              "      <td>3</td>\n",
              "      <td>-0.152152</td>\n",
              "      <td>-0.508959</td>\n",
              "      <td>1.746840</td>\n",
              "      <td>-1.090178</td>\n",
              "      <td>0.249486</td>\n",
              "      <td>1.143312</td>\n",
              "      <td>0.518269</td>\n",
              "      <td>-0.065130</td>\n",
              "      <td>-0.205698</td>\n",
              "      <td>...</td>\n",
              "      <td>-0.146927</td>\n",
              "      <td>-0.038212</td>\n",
              "      <td>-0.214048</td>\n",
              "      <td>-1.893131</td>\n",
              "      <td>1.003963</td>\n",
              "      <td>-0.515950</td>\n",
              "      <td>-0.165316</td>\n",
              "      <td>0.048424</td>\n",
              "      <td>5384.44</td>\n",
              "      <td>0</td>\n",
              "    </tr>\n",
              "    <tr>\n",
              "      <th>4</th>\n",
              "      <td>4</td>\n",
              "      <td>-0.206820</td>\n",
              "      <td>-0.165280</td>\n",
              "      <td>1.527053</td>\n",
              "      <td>-0.448293</td>\n",
              "      <td>0.106125</td>\n",
              "      <td>0.530549</td>\n",
              "      <td>0.658849</td>\n",
              "      <td>-0.212660</td>\n",
              "      <td>1.049921</td>\n",
              "      <td>...</td>\n",
              "      <td>-0.106984</td>\n",
              "      <td>0.729727</td>\n",
              "      <td>-0.161666</td>\n",
              "      <td>0.312561</td>\n",
              "      <td>-0.414116</td>\n",
              "      <td>1.071126</td>\n",
              "      <td>0.023712</td>\n",
              "      <td>0.419117</td>\n",
              "      <td>14278.97</td>\n",
              "      <td>0</td>\n",
              "    </tr>\n",
              "  </tbody>\n",
              "</table>\n",
              "<p>5 rows × 31 columns</p>\n",
              "</div>\n",
              "    <div class=\"colab-df-buttons\">\n",
              "\n",
              "  <div class=\"colab-df-container\">\n",
              "    <button class=\"colab-df-convert\" onclick=\"convertToInteractive('df-6f69ead6-8a9b-4581-8002-71f5209ba7fb')\"\n",
              "            title=\"Convert this dataframe to an interactive table.\"\n",
              "            style=\"display:none;\">\n",
              "\n",
              "  <svg xmlns=\"http://www.w3.org/2000/svg\" height=\"24px\" viewBox=\"0 -960 960 960\">\n",
              "    <path d=\"M120-120v-720h720v720H120Zm60-500h600v-160H180v160Zm220 220h160v-160H400v160Zm0 220h160v-160H400v160ZM180-400h160v-160H180v160Zm440 0h160v-160H620v160ZM180-180h160v-160H180v160Zm440 0h160v-160H620v160Z\"/>\n",
              "  </svg>\n",
              "    </button>\n",
              "\n",
              "  <style>\n",
              "    .colab-df-container {\n",
              "      display:flex;\n",
              "      gap: 12px;\n",
              "    }\n",
              "\n",
              "    .colab-df-convert {\n",
              "      background-color: #E8F0FE;\n",
              "      border: none;\n",
              "      border-radius: 50%;\n",
              "      cursor: pointer;\n",
              "      display: none;\n",
              "      fill: #1967D2;\n",
              "      height: 32px;\n",
              "      padding: 0 0 0 0;\n",
              "      width: 32px;\n",
              "    }\n",
              "\n",
              "    .colab-df-convert:hover {\n",
              "      background-color: #E2EBFA;\n",
              "      box-shadow: 0px 1px 2px rgba(60, 64, 67, 0.3), 0px 1px 3px 1px rgba(60, 64, 67, 0.15);\n",
              "      fill: #174EA6;\n",
              "    }\n",
              "\n",
              "    .colab-df-buttons div {\n",
              "      margin-bottom: 4px;\n",
              "    }\n",
              "\n",
              "    [theme=dark] .colab-df-convert {\n",
              "      background-color: #3B4455;\n",
              "      fill: #D2E3FC;\n",
              "    }\n",
              "\n",
              "    [theme=dark] .colab-df-convert:hover {\n",
              "      background-color: #434B5C;\n",
              "      box-shadow: 0px 1px 3px 1px rgba(0, 0, 0, 0.15);\n",
              "      filter: drop-shadow(0px 1px 2px rgba(0, 0, 0, 0.3));\n",
              "      fill: #FFFFFF;\n",
              "    }\n",
              "  </style>\n",
              "\n",
              "    <script>\n",
              "      const buttonEl =\n",
              "        document.querySelector('#df-6f69ead6-8a9b-4581-8002-71f5209ba7fb button.colab-df-convert');\n",
              "      buttonEl.style.display =\n",
              "        google.colab.kernel.accessAllowed ? 'block' : 'none';\n",
              "\n",
              "      async function convertToInteractive(key) {\n",
              "        const element = document.querySelector('#df-6f69ead6-8a9b-4581-8002-71f5209ba7fb');\n",
              "        const dataTable =\n",
              "          await google.colab.kernel.invokeFunction('convertToInteractive',\n",
              "                                                    [key], {});\n",
              "        if (!dataTable) return;\n",
              "\n",
              "        const docLinkHtml = 'Like what you see? Visit the ' +\n",
              "          '<a target=\"_blank\" href=https://colab.research.google.com/notebooks/data_table.ipynb>data table notebook</a>'\n",
              "          + ' to learn more about interactive tables.';\n",
              "        element.innerHTML = '';\n",
              "        dataTable['output_type'] = 'display_data';\n",
              "        await google.colab.output.renderOutput(dataTable, element);\n",
              "        const docLink = document.createElement('div');\n",
              "        docLink.innerHTML = docLinkHtml;\n",
              "        element.appendChild(docLink);\n",
              "      }\n",
              "    </script>\n",
              "  </div>\n",
              "\n",
              "\n",
              "<div id=\"df-72a806b5-1599-495b-9eca-30f4ac4ec7b6\">\n",
              "  <button class=\"colab-df-quickchart\" onclick=\"quickchart('df-72a806b5-1599-495b-9eca-30f4ac4ec7b6')\"\n",
              "            title=\"Suggest charts.\"\n",
              "            style=\"display:none;\">\n",
              "\n",
              "<svg xmlns=\"http://www.w3.org/2000/svg\" height=\"24px\"viewBox=\"0 0 24 24\"\n",
              "     width=\"24px\">\n",
              "    <g>\n",
              "        <path d=\"M19 3H5c-1.1 0-2 .9-2 2v14c0 1.1.9 2 2 2h14c1.1 0 2-.9 2-2V5c0-1.1-.9-2-2-2zM9 17H7v-7h2v7zm4 0h-2V7h2v10zm4 0h-2v-4h2v4z\"/>\n",
              "    </g>\n",
              "</svg>\n",
              "  </button>\n",
              "\n",
              "<style>\n",
              "  .colab-df-quickchart {\n",
              "      --bg-color: #E8F0FE;\n",
              "      --fill-color: #1967D2;\n",
              "      --hover-bg-color: #E2EBFA;\n",
              "      --hover-fill-color: #174EA6;\n",
              "      --disabled-fill-color: #AAA;\n",
              "      --disabled-bg-color: #DDD;\n",
              "  }\n",
              "\n",
              "  [theme=dark] .colab-df-quickchart {\n",
              "      --bg-color: #3B4455;\n",
              "      --fill-color: #D2E3FC;\n",
              "      --hover-bg-color: #434B5C;\n",
              "      --hover-fill-color: #FFFFFF;\n",
              "      --disabled-bg-color: #3B4455;\n",
              "      --disabled-fill-color: #666;\n",
              "  }\n",
              "\n",
              "  .colab-df-quickchart {\n",
              "    background-color: var(--bg-color);\n",
              "    border: none;\n",
              "    border-radius: 50%;\n",
              "    cursor: pointer;\n",
              "    display: none;\n",
              "    fill: var(--fill-color);\n",
              "    height: 32px;\n",
              "    padding: 0;\n",
              "    width: 32px;\n",
              "  }\n",
              "\n",
              "  .colab-df-quickchart:hover {\n",
              "    background-color: var(--hover-bg-color);\n",
              "    box-shadow: 0 1px 2px rgba(60, 64, 67, 0.3), 0 1px 3px 1px rgba(60, 64, 67, 0.15);\n",
              "    fill: var(--button-hover-fill-color);\n",
              "  }\n",
              "\n",
              "  .colab-df-quickchart-complete:disabled,\n",
              "  .colab-df-quickchart-complete:disabled:hover {\n",
              "    background-color: var(--disabled-bg-color);\n",
              "    fill: var(--disabled-fill-color);\n",
              "    box-shadow: none;\n",
              "  }\n",
              "\n",
              "  .colab-df-spinner {\n",
              "    border: 2px solid var(--fill-color);\n",
              "    border-color: transparent;\n",
              "    border-bottom-color: var(--fill-color);\n",
              "    animation:\n",
              "      spin 1s steps(1) infinite;\n",
              "  }\n",
              "\n",
              "  @keyframes spin {\n",
              "    0% {\n",
              "      border-color: transparent;\n",
              "      border-bottom-color: var(--fill-color);\n",
              "      border-left-color: var(--fill-color);\n",
              "    }\n",
              "    20% {\n",
              "      border-color: transparent;\n",
              "      border-left-color: var(--fill-color);\n",
              "      border-top-color: var(--fill-color);\n",
              "    }\n",
              "    30% {\n",
              "      border-color: transparent;\n",
              "      border-left-color: var(--fill-color);\n",
              "      border-top-color: var(--fill-color);\n",
              "      border-right-color: var(--fill-color);\n",
              "    }\n",
              "    40% {\n",
              "      border-color: transparent;\n",
              "      border-right-color: var(--fill-color);\n",
              "      border-top-color: var(--fill-color);\n",
              "    }\n",
              "    60% {\n",
              "      border-color: transparent;\n",
              "      border-right-color: var(--fill-color);\n",
              "    }\n",
              "    80% {\n",
              "      border-color: transparent;\n",
              "      border-right-color: var(--fill-color);\n",
              "      border-bottom-color: var(--fill-color);\n",
              "    }\n",
              "    90% {\n",
              "      border-color: transparent;\n",
              "      border-bottom-color: var(--fill-color);\n",
              "    }\n",
              "  }\n",
              "</style>\n",
              "\n",
              "  <script>\n",
              "    async function quickchart(key) {\n",
              "      const quickchartButtonEl =\n",
              "        document.querySelector('#' + key + ' button');\n",
              "      quickchartButtonEl.disabled = true;  // To prevent multiple clicks.\n",
              "      quickchartButtonEl.classList.add('colab-df-spinner');\n",
              "      try {\n",
              "        const charts = await google.colab.kernel.invokeFunction(\n",
              "            'suggestCharts', [key], {});\n",
              "      } catch (error) {\n",
              "        console.error('Error during call to suggestCharts:', error);\n",
              "      }\n",
              "      quickchartButtonEl.classList.remove('colab-df-spinner');\n",
              "      quickchartButtonEl.classList.add('colab-df-quickchart-complete');\n",
              "    }\n",
              "    (() => {\n",
              "      let quickchartButtonEl =\n",
              "        document.querySelector('#df-72a806b5-1599-495b-9eca-30f4ac4ec7b6 button');\n",
              "      quickchartButtonEl.style.display =\n",
              "        google.colab.kernel.accessAllowed ? 'block' : 'none';\n",
              "    })();\n",
              "  </script>\n",
              "</div>\n",
              "    </div>\n",
              "  </div>\n"
            ]
          },
          "metadata": {},
          "execution_count": 31
        }
      ]
    },
    {
      "cell_type": "code",
      "source": [
        "df = df_base.drop(df_base.index[5000:])\n",
        "num_rows, num_columns = df.shape\n",
        "\n",
        "# Now, num_rows and num_columns contain the number of rows and columns in the merged_data DataFrame\n",
        "print(f\"Number of rows: {num_rows}\")\n",
        "print(f\"Number of columns: {num_columns}\")"
      ],
      "metadata": {
        "colab": {
          "base_uri": "https://localhost:8080/"
        },
        "id": "5-CASRek0Z3m",
        "outputId": "d1dbcfd8-cb57-499c-c4a6-987f5eb39611"
      },
      "execution_count": null,
      "outputs": [
        {
          "output_type": "stream",
          "name": "stdout",
          "text": [
            "Number of rows: 5000\n",
            "Number of columns: 31\n"
          ]
        }
      ]
    },
    {
      "cell_type": "markdown",
      "source": [
        "## Árvore Binária de Busca"
      ],
      "metadata": {
        "id": "UXfHtIsJqCpz"
      }
    },
    {
      "cell_type": "code",
      "source": [
        "class BinarySearchTreeNode:\n",
        "    def __init__(self, data,df):\n",
        "        self.data = data\n",
        "        self.left = None\n",
        "        self.right = None\n",
        "        self.df = df\n",
        "\n",
        "\n",
        "class BinarySearchTree:\n",
        "    def __init__(self):\n",
        "      self.root =  None\n",
        "\n",
        "    def insert_data_frame(self, key, data_frame):\n",
        "        self.root = self._insert(self.root, key,data_frame)\n",
        "\n",
        "\n",
        "    def _insert(self, node, data,data_frame):\n",
        "        if node is None:\n",
        "            return BinarySearchTreeNode(data,data_frame)\n",
        "\n",
        "        if data < node.data:\n",
        "            node.left = self._insert(node.left, data,data_frame)\n",
        "        else:\n",
        "            node.right = self._insert(node.right, data,data_frame)\n",
        "\n",
        "        return node\n",
        "\n",
        "\n",
        "\n",
        "    def search(self, data):\n",
        "        return self._search(self.root, data)\n",
        "\n",
        "    def _search(self, node, data):\n",
        "        if node is None:\n",
        "            return False\n",
        "        if data == node.data:\n",
        "            return True\n",
        "        elif data < node.data:\n",
        "            return self._search(node.left, data)\n",
        "        else:\n",
        "            return self._search(node.right, data)\n",
        "\n",
        "\n",
        "    def inorder_traversal(self):\n",
        "        result = []\n",
        "        self._inorder(self.root, result)\n",
        "        return result\n",
        "\n",
        "    def _inorder(self, node, result):\n",
        "        if node:\n",
        "            self._inorder(node.left, result)\n",
        "            result.append(node.data)\n",
        "            self._inorder(node.right, result)\n",
        "\n",
        "    def delete(self, data):\n",
        "        self.root = self._delete(self.root, data)\n",
        "\n",
        "    def _delete(self, root, data):\n",
        "        if root is None:\n",
        "            return root\n",
        "\n",
        "        if data < root.data:\n",
        "            root.left = self._delete(root.left, data)\n",
        "        elif data > root.data:\n",
        "            root.right = self._delete(root.right, data)\n",
        "        else:\n",
        "            # Node with the key to be deleted found\n",
        "\n",
        "            # Case 1: Node with only one child or no child\n",
        "            if root.left is None:\n",
        "                return root.right\n",
        "            elif root.right is None:\n",
        "                return root.left\n",
        "\n",
        "            # Case 2: Node with two children\n",
        "            # Get the inorder successor (smallest in the right subtree)\n",
        "            temp = self._get_min_value_node(root.right)\n",
        "            # Copy the inorder successor's content to this node\n",
        "            root.data = temp.data\n",
        "            root.df = temp.df\n",
        "            # Delete the inorder successor\n",
        "            root.right = self._delete(root.right, temp.data)\n",
        "\n",
        "        return root\n",
        "\n",
        "\n",
        "    def find_max(self,root):\n",
        "        if self.right is None:\n",
        "            return self.data\n",
        "        return self.right.find_max()\n",
        "\n",
        "    def _get_min_value_node(self, root):\n",
        "        current = root\n",
        "        while current.left is not None:\n",
        "            current = current.left\n",
        "        return current"
      ],
      "metadata": {
        "id": "DwNgufg0mrnI"
      },
      "execution_count": null,
      "outputs": []
    },
    {
      "cell_type": "markdown",
      "source": [
        "## Árvore Balanceada - AVL"
      ],
      "metadata": {
        "id": "3mmUQQL9zRhz"
      }
    },
    {
      "cell_type": "code",
      "source": [
        "class AVLNode:\n",
        "    def __init__(self, key,df):\n",
        "        self.key = key\n",
        "        self.left = None\n",
        "        self.right = None\n",
        "        self.height = 1\n",
        "        self.data_frame = df\n",
        "\n",
        "class AVLTree:\n",
        "    def __init__(self):\n",
        "        self.root = None\n",
        "\n",
        "    def _height(self, node):\n",
        "        if node is None:\n",
        "            return 0\n",
        "        return node.height\n",
        "\n",
        "    def _update_height(self, node):\n",
        "        if node:\n",
        "            node.height = 1 + max(self._height(node.left), self._height(node.right))\n",
        "\n",
        "    def _balance_factor(self, node):\n",
        "        if node is None:\n",
        "            return 0\n",
        "        return self._height(node.left) - self._height(node.right)\n",
        "\n",
        "    def _rotate_left(self, node):\n",
        "        right_child = node.right\n",
        "        node.right = right_child.left\n",
        "        right_child.left = node\n",
        "        self._update_height(node)\n",
        "        self._update_height(right_child)\n",
        "        return right_child\n",
        "\n",
        "    def _rotate_right(self, node):\n",
        "        left_child = node.left\n",
        "        node.left = left_child.right\n",
        "        left_child.right = node\n",
        "        self._update_height(node)\n",
        "        self._update_height(left_child)\n",
        "        return left_child\n",
        "\n",
        "    def insert(self, key):\n",
        "        self.root = self._insert(self.root, key)\n",
        "\n",
        "    def _insert(self, node, key, data_frame):\n",
        "        if node is None:\n",
        "            return AVLNode(key, data_frame)\n",
        "\n",
        "        if key < node.key:\n",
        "            node.left = self._insert(node.left, key, data_frame)\n",
        "        else:\n",
        "            node.right = self._insert(node.right, key, data_frame)\n",
        "\n",
        "        self._update_height(node)\n",
        "\n",
        "        # Verifique o fator de balanceamento e faça as rotações, se necessário\n",
        "        balance = self._balance_factor(node)\n",
        "\n",
        "        if balance > 1:\n",
        "            if key < node.left.key:\n",
        "                return self._rotate_right(node)\n",
        "            else:\n",
        "                node.left = self._rotate_left(node.left)\n",
        "                return self._rotate_right(node)\n",
        "        if balance < -1:\n",
        "            if key > node.right.key:\n",
        "                return self._rotate_left(node)\n",
        "            else:\n",
        "                node.right = self._rotate_right(node.right)\n",
        "                return self._rotate_left(node)\n",
        "\n",
        "        return node\n",
        "\n",
        "    def insert_data_frame(self, key, data_frame):\n",
        "        self.root = self._insert(self.root, key, data_frame)\n",
        "\n",
        "\n",
        "    def delete(self, key):\n",
        "        self.root = self._delete(self.root, key)\n",
        "\n",
        "    def _delete(self, node, key):\n",
        "        if node is None:\n",
        "            return node\n",
        "\n",
        "        if key < node.key:\n",
        "            node.left = self._delete(node.left, key)\n",
        "        elif key > node.key:\n",
        "            node.right = self._delete(node.right, key)\n",
        "        else:\n",
        "            if node.left is None:\n",
        "                return node.right\n",
        "            elif node.right is None:\n",
        "                return node.left\n",
        "\n",
        "            min_key = self._find_min(node.right).key\n",
        "            node.key = min_key\n",
        "            node.right = self._delete(node.right, min_key)\n",
        "\n",
        "        self._update_height(node)\n",
        "\n",
        "        balance = self._balance_factor(node)\n",
        "\n",
        "        if balance > 1:\n",
        "            if self._balance_factor(node.left) >= 0:\n",
        "                return self._rotate_right(node)\n",
        "            else:\n",
        "                node.left = self._rotate_left(node.left)\n",
        "                return self._rotate_right(node)\n",
        "        if balance < -1:\n",
        "            if self._balance_factor(node.right) <= 0:\n",
        "                return self._rotate_left(node)\n",
        "            else:\n",
        "                node.right = self._rotate_right(node.right)\n",
        "                return self._rotate_left(node)\n",
        "\n",
        "        return node\n",
        "\n",
        "    def _find_min(self, node):\n",
        "        while node.left:\n",
        "            node = node.left\n",
        "        return node\n",
        "\n",
        "    def search(self, key):\n",
        "        return self._search(self.root, key)\n",
        "\n",
        "    def _search(self, node, key):\n",
        "        if node is None:\n",
        "            return False\n",
        "        if key == node.key:\n",
        "            return True\n",
        "        elif key < node.key:\n",
        "            return self._search(node.left, key)\n",
        "        else:\n",
        "            return self._search(node.right, key)\n",
        "\n",
        "    def inorder_traversal(self):\n",
        "        result = []\n",
        "        self._inorder(self.root, result)\n",
        "        return result\n",
        "\n",
        "    def _inorder(self, node, result):\n",
        "        if node:\n",
        "            self._inorder(node.left, result)\n",
        "            result.append(node.key)\n",
        "            self._inorder(node.right, result)"
      ],
      "metadata": {
        "id": "zTgYe_a9zWYZ"
      },
      "execution_count": null,
      "outputs": []
    },
    {
      "cell_type": "markdown",
      "source": [
        "## Mapeando o DataFrame para estrutura de Árvore"
      ],
      "metadata": {
        "id": "7C_dh2e46gXR"
      }
    },
    {
      "cell_type": "code",
      "source": [
        "def build_tree(df):\n",
        "\n",
        "  bst = BinarySearchTree()\n",
        "  for index, row in df.iterrows():\n",
        "      key = row[\"id\"]\n",
        "      data = row.to_dict()\n",
        "      bst.insert_data_frame(key,data)\n",
        "  return bst\n",
        "# Construir a BST a partir do DataFrame\n",
        "root_bst = build_tree(df)"
      ],
      "metadata": {
        "id": "UhCL2AQG6o1m"
      },
      "execution_count": null,
      "outputs": []
    },
    {
      "cell_type": "code",
      "source": [
        "def build_tree_avl(df):\n",
        "\n",
        "  avl = AVLTree()\n",
        "  for index, row in df.iterrows():\n",
        "      key = row[\"id\"]\n",
        "      data = row.to_dict()\n",
        "      avl.insert_data_frame(key,data)\n",
        "  return avl\n",
        "# Construir a AVL a partir do DataFrame\n",
        "root_avl = build_tree_avl(df)"
      ],
      "metadata": {
        "id": "E2FuZwYPfjwE"
      },
      "execution_count": null,
      "outputs": []
    },
    {
      "cell_type": "markdown",
      "source": [
        "## **Desempenho das Árvores**"
      ],
      "metadata": {
        "id": "a0UonCh83s76"
      }
    },
    {
      "cell_type": "markdown",
      "source": [
        "### **Inserção de Elementos**"
      ],
      "metadata": {
        "id": "WCroN3c6OBQH"
      }
    },
    {
      "cell_type": "markdown",
      "source": [
        "#### **Inserção Ordenada Crescente**\n",
        "\n",
        "**Vale o destaque para esse tipo de inserção que realça bem o problema com a falta de balanceamento da BST**\n",
        "\n",
        "> Nesse tipo de inserção a árvore se torna uma lista ligada, o que transforma a complexidade de tempo a se tornar linear: ***O(n)***. Com isso sua performance se torna pior em todos os métodos aplicados, Busca, Inserção e Remoção.\n",
        "\n",
        "\n"
      ],
      "metadata": {
        "id": "9GFz55yIwwsI"
      }
    },
    {
      "cell_type": "markdown",
      "source": [
        "#### Árvore Binária de Busca"
      ],
      "metadata": {
        "id": "MZ48u-hVQCcI"
      }
    },
    {
      "cell_type": "code",
      "source": [
        "def insert_bst(bst,element,st=None,end=None):\n",
        "  start = time.process_time()\n",
        "  #for element in elements:\n",
        "  if len(element) > 1:\n",
        "    for index,row in df_base[st:end].iterrows():\n",
        "      key = row[0]\n",
        "      data = row.to_dict()\n",
        "      bst.insert_data_frame(key,data)\n",
        "  else:\n",
        "      key = element['id']\n",
        "      data = element.to_dict()\n",
        "      bst.insert_data_frame(key,data)\n",
        "  end = time.process_time()\n",
        "  return round(end-start,4)\n",
        "\n",
        "tempo_insert_bst_500 = insert_bst(root_bst,df_base,17000,17500)"
      ],
      "metadata": {
        "id": "1DH-ByAuN8I3"
      },
      "execution_count": null,
      "outputs": []
    },
    {
      "cell_type": "code",
      "source": [
        "tempo_insert_bst_2500 = insert_bst(root_bst,df_base,17500,20000)"
      ],
      "metadata": {
        "id": "vQR9HN2-19XY"
      },
      "execution_count": null,
      "outputs": []
    },
    {
      "cell_type": "code",
      "source": [
        "tempo_insert_bst_10k = insert_bst(root_bst,df_base,5000,15000)"
      ],
      "metadata": {
        "id": "716-O7bm1_4l"
      },
      "execution_count": null,
      "outputs": []
    },
    {
      "cell_type": "markdown",
      "source": [
        "#### Árvore AVL"
      ],
      "metadata": {
        "id": "Hf-69nxXRDG9"
      }
    },
    {
      "cell_type": "code",
      "source": [
        "def insert_avl(avl,element,st=None,end=None):\n",
        "  start = time.process_time()\n",
        "\n",
        "  if len(element) > 1:\n",
        "    for index,row in df_base[st:end].iterrows():\n",
        "      key = row[0]\n",
        "      data = row.to_dict()\n",
        "      avl.insert_data_frame(key,data)\n",
        "  else:\n",
        "\n",
        "    key = element['id']\n",
        "    data = element.to_dict()\n",
        "    avl.insert_data_frame(key,data)\n",
        "  end = time.process_time()\n",
        "  return round(end-start,4)\n",
        "\n",
        "tempo_insert_avl_500 = insert_avl(root_avl,df_base,17000,17500)\n",
        "tempo_insert_avl_2500 = insert_avl(root_avl,df_base,17500,20000)\n",
        "tempo_insert_avl_10k = insert_avl(root_avl,df_base,5000,15000)"
      ],
      "metadata": {
        "id": "330LO0YVRDVS"
      },
      "execution_count": null,
      "outputs": []
    },
    {
      "cell_type": "markdown",
      "source": [
        "### **Inserção Randomizada**"
      ],
      "metadata": {
        "id": "0fbAyF7NhISC"
      }
    },
    {
      "cell_type": "markdown",
      "source": [
        "\n",
        "\n",
        "> Nesta seção daus novas árvores serão criadas, e dessa vez a inserção de novos nós será feita inicialemnte randomicamente. Assim o desempenho dos próximos métodos não será prejudicado pelo problema criado propositalmente na primeira BST\n"
      ],
      "metadata": {
        "id": "RcP-f9GSlJAk"
      }
    },
    {
      "cell_type": "markdown",
      "source": [
        "#### Árvore Binária de Busca"
      ],
      "metadata": {
        "id": "nhQuRnXjlshY"
      }
    },
    {
      "cell_type": "code",
      "source": [
        "def insert_bst_random(bst,element):\n",
        "  items = random.sample(range(len(df_base)),element)\n",
        "  start = time.process_time()\n",
        "\n",
        "  if element > 1:\n",
        "    for item in items:\n",
        "      key = df_base.iloc[item]['id']\n",
        "      data = df_base.iloc[item].to_dict()\n",
        "      bst.insert_data_frame(key,data)\n",
        "  else:\n",
        "\n",
        "    key = df_base.iloc[element]['id']\n",
        "    data = df_base.iloc[element].to_dict()\n",
        "    bst.insert_data_frame(key,data)\n",
        "  end = time.process_time()\n",
        "  return round(end-start,4)\n",
        "\n",
        "bst2 = BinarySearchTree()\n",
        "tempo_insert_bst_5k_random = insert_bst_random(bst2,5000)\n",
        "tempo_insert_bst_25k_random = insert_bst_random(bst2,25000)\n",
        "tempo_insert_bst_50k_random = insert_bst_random(bst2,50000)"
      ],
      "metadata": {
        "id": "uWTnGqy9mzuG",
        "colab": {
          "base_uri": "https://localhost:8080/",
          "height": 356
        },
        "outputId": "8392f852-3872-4907-ba6b-85374a4fd46b"
      },
      "execution_count": null,
      "outputs": [
        {
          "output_type": "error",
          "ename": "ValueError",
          "evalue": "ignored",
          "traceback": [
            "\u001b[0;31m---------------------------------------------------------------------------\u001b[0m",
            "\u001b[0;31mValueError\u001b[0m                                Traceback (most recent call last)",
            "\u001b[0;32m<ipython-input-70-f2f62645bc59>\u001b[0m in \u001b[0;36m<cell line: 21>\u001b[0;34m()\u001b[0m\n\u001b[1;32m     19\u001b[0m \u001b[0mtempo_insert_bst_500_random\u001b[0m \u001b[0;34m=\u001b[0m \u001b[0minsert_bst_random\u001b[0m\u001b[0;34m(\u001b[0m\u001b[0mroot_bst\u001b[0m\u001b[0;34m,\u001b[0m\u001b[0;36m500\u001b[0m\u001b[0;34m)\u001b[0m\u001b[0;34m\u001b[0m\u001b[0;34m\u001b[0m\u001b[0m\n\u001b[1;32m     20\u001b[0m \u001b[0mtempo_insert_bst_2500_random\u001b[0m \u001b[0;34m=\u001b[0m \u001b[0minsert_bst_random\u001b[0m\u001b[0;34m(\u001b[0m\u001b[0mroot_bst\u001b[0m\u001b[0;34m,\u001b[0m\u001b[0;36m2500\u001b[0m\u001b[0;34m)\u001b[0m\u001b[0;34m\u001b[0m\u001b[0;34m\u001b[0m\u001b[0m\n\u001b[0;32m---> 21\u001b[0;31m \u001b[0mtempo_insert_bst_10k_random\u001b[0m \u001b[0;34m=\u001b[0m \u001b[0minsert_bst_random\u001b[0m\u001b[0;34m(\u001b[0m\u001b[0mroot_bst\u001b[0m\u001b[0;34m,\u001b[0m\u001b[0;36m100000\u001b[0m\u001b[0;34m)\u001b[0m\u001b[0;34m\u001b[0m\u001b[0;34m\u001b[0m\u001b[0m\n\u001b[0m",
            "\u001b[0;32m<ipython-input-70-f2f62645bc59>\u001b[0m in \u001b[0;36minsert_bst_random\u001b[0;34m(bst, element)\u001b[0m\n\u001b[1;32m      1\u001b[0m \u001b[0;32mdef\u001b[0m \u001b[0minsert_bst_random\u001b[0m\u001b[0;34m(\u001b[0m\u001b[0mbst\u001b[0m\u001b[0;34m,\u001b[0m\u001b[0melement\u001b[0m\u001b[0;34m)\u001b[0m\u001b[0;34m:\u001b[0m\u001b[0;34m\u001b[0m\u001b[0;34m\u001b[0m\u001b[0m\n\u001b[0;32m----> 2\u001b[0;31m   \u001b[0mitems\u001b[0m \u001b[0;34m=\u001b[0m \u001b[0mrandom\u001b[0m\u001b[0;34m.\u001b[0m\u001b[0msample\u001b[0m\u001b[0;34m(\u001b[0m\u001b[0mrange\u001b[0m\u001b[0;34m(\u001b[0m\u001b[0mlen\u001b[0m\u001b[0;34m(\u001b[0m\u001b[0mdf_base\u001b[0m\u001b[0;34m)\u001b[0m\u001b[0;34m)\u001b[0m\u001b[0;34m,\u001b[0m\u001b[0melement\u001b[0m\u001b[0;34m)\u001b[0m\u001b[0;34m\u001b[0m\u001b[0;34m\u001b[0m\u001b[0m\n\u001b[0m\u001b[1;32m      3\u001b[0m   \u001b[0mstart\u001b[0m \u001b[0;34m=\u001b[0m \u001b[0mtime\u001b[0m\u001b[0;34m.\u001b[0m\u001b[0mprocess_time\u001b[0m\u001b[0;34m(\u001b[0m\u001b[0;34m)\u001b[0m\u001b[0;34m\u001b[0m\u001b[0;34m\u001b[0m\u001b[0m\n\u001b[1;32m      4\u001b[0m \u001b[0;34m\u001b[0m\u001b[0m\n\u001b[1;32m      5\u001b[0m   \u001b[0;32mif\u001b[0m \u001b[0melement\u001b[0m \u001b[0;34m>\u001b[0m \u001b[0;36m1\u001b[0m\u001b[0;34m:\u001b[0m\u001b[0;34m\u001b[0m\u001b[0;34m\u001b[0m\u001b[0m\n",
            "\u001b[0;32m/usr/lib/python3.10/random.py\u001b[0m in \u001b[0;36msample\u001b[0;34m(self, population, k, counts)\u001b[0m\n\u001b[1;32m    480\u001b[0m         \u001b[0mrandbelow\u001b[0m \u001b[0;34m=\u001b[0m \u001b[0mself\u001b[0m\u001b[0;34m.\u001b[0m\u001b[0m_randbelow\u001b[0m\u001b[0;34m\u001b[0m\u001b[0;34m\u001b[0m\u001b[0m\n\u001b[1;32m    481\u001b[0m         \u001b[0;32mif\u001b[0m \u001b[0;32mnot\u001b[0m \u001b[0;36m0\u001b[0m \u001b[0;34m<=\u001b[0m \u001b[0mk\u001b[0m \u001b[0;34m<=\u001b[0m \u001b[0mn\u001b[0m\u001b[0;34m:\u001b[0m\u001b[0;34m\u001b[0m\u001b[0;34m\u001b[0m\u001b[0m\n\u001b[0;32m--> 482\u001b[0;31m             \u001b[0;32mraise\u001b[0m \u001b[0mValueError\u001b[0m\u001b[0;34m(\u001b[0m\u001b[0;34m\"Sample larger than population or is negative\"\u001b[0m\u001b[0;34m)\u001b[0m\u001b[0;34m\u001b[0m\u001b[0;34m\u001b[0m\u001b[0m\n\u001b[0m\u001b[1;32m    483\u001b[0m         \u001b[0mresult\u001b[0m \u001b[0;34m=\u001b[0m \u001b[0;34m[\u001b[0m\u001b[0;32mNone\u001b[0m\u001b[0;34m]\u001b[0m \u001b[0;34m*\u001b[0m \u001b[0mk\u001b[0m\u001b[0;34m\u001b[0m\u001b[0;34m\u001b[0m\u001b[0m\n\u001b[1;32m    484\u001b[0m         \u001b[0msetsize\u001b[0m \u001b[0;34m=\u001b[0m \u001b[0;36m21\u001b[0m        \u001b[0;31m# size of a small set minus size of an empty list\u001b[0m\u001b[0;34m\u001b[0m\u001b[0;34m\u001b[0m\u001b[0m\n",
            "\u001b[0;31mValueError\u001b[0m: Sample larger than population or is negative"
          ]
        }
      ]
    },
    {
      "cell_type": "markdown",
      "source": [
        "#### Árvore AVL"
      ],
      "metadata": {
        "id": "HO1mHkjxlwD2"
      }
    },
    {
      "cell_type": "code",
      "source": [
        "def insert_avl_random(avl,element):\n",
        "  items = random.sample(range(len(df_base)),element)\n",
        "  start = time.process_time()\n",
        "\n",
        "  if element > 1:\n",
        "    for item in items:\n",
        "      key = df_base.iloc[item]['id']\n",
        "      data = df_base.iloc[item].to_dict()\n",
        "      avl.insert_data_frame(key,data)\n",
        "  else:\n",
        "\n",
        "    key = df_base.iloc[element]['id']\n",
        "    data = df_base.iloc[element].to_dict()\n",
        "    avl.insert_data_frame(key,data)\n",
        "  end = time.process_time()\n",
        "  return round(end-start,4)\n",
        "\n",
        "avl2 = AVLTree()\n",
        "tempo_insert_avl_5k_random = insert_avl_random(avl2,5000)\n",
        "tempo_insert_avl_25k_random = insert_avl_random(avl2,25000)\n",
        "tempo_insert_avl_50k_random = insert_avl_random(avl2,50000)"
      ],
      "metadata": {
        "id": "7ryFOdwxhP1w"
      },
      "execution_count": null,
      "outputs": []
    },
    {
      "cell_type": "markdown",
      "source": [
        "### **Inserção Ordenada decrescente**"
      ],
      "metadata": {
        "id": "VgjggB_Zw52K"
      }
    },
    {
      "cell_type": "markdown",
      "source": [
        "Árvore Binária de Busca"
      ],
      "metadata": {
        "id": "DOas07EyxLhP"
      }
    },
    {
      "cell_type": "code",
      "source": [
        "def insert_bst_dec(bst,element,st=None,end=None):\n",
        "  start = time.process_time()\n",
        "  #for element in elements:\n",
        "  if len(element) > 1:\n",
        "    for index,row in df_base[st:end].iterrows():\n",
        "      key = row[0]\n",
        "      data = row.to_dict()\n",
        "      bst.insert_data_frame(key,data)\n",
        "  else:\n",
        "      key = element['id']\n",
        "      data = element.to_dict()\n",
        "      bst.insert_data_frame(key,data)\n",
        "  end = time.process_time()\n",
        "  return round(end-start,4)\n",
        "\n",
        "tempo_insert_bst_500_dec = insert_bst_dec(bst2,df_base,40000,35000)"
      ],
      "metadata": {
        "id": "eFOTMDanw5p0"
      },
      "execution_count": null,
      "outputs": []
    },
    {
      "cell_type": "code",
      "source": [
        "tempo_insert_bst_2500_dec = insert_bst_dec(bst2,df_base,50000,40000)"
      ],
      "metadata": {
        "id": "4JRVrYsQ2JXz"
      },
      "execution_count": null,
      "outputs": []
    },
    {
      "cell_type": "code",
      "source": [
        "tempo_insert_bst_5000_dec = insert_bst_dec(bst2,df_base,100000,50000)"
      ],
      "metadata": {
        "id": "Tt9hOBg-2JRa"
      },
      "execution_count": null,
      "outputs": []
    },
    {
      "cell_type": "markdown",
      "source": [
        "#### Árvore AVL"
      ],
      "metadata": {
        "id": "UmAqaLUGzLVq"
      }
    },
    {
      "cell_type": "code",
      "source": [
        "def insert_avl(avl,element,st=None,end=None):\n",
        "  start = time.process_time()\n",
        "\n",
        "  if len(element) > 1:\n",
        "    for index,row in df_base[st:end].iterrows():\n",
        "      key = row[0]\n",
        "      data = row.to_dict()\n",
        "      avl.insert_data_frame(key,data)\n",
        "  else:\n",
        "\n",
        "    key = element['id']\n",
        "    data = element.to_dict()\n",
        "    avl.insert_data_frame(key,data)\n",
        "  end = time.process_time()\n",
        "  return round(end-start,4)\n",
        "\n",
        "tempo_insert_avl_500_dec = insert_avl(avl2,df_base,40000,35000)\n",
        "tempo_insert_avl_2500_dec = insert_avl(avl2,df_base,50000,40000)\n",
        "tempo_insert_avl_5k_dec = insert_avl(avl2,df_base,100000,50000)"
      ],
      "metadata": {
        "id": "rxXdWiKVzPHc"
      },
      "execution_count": null,
      "outputs": []
    },
    {
      "cell_type": "markdown",
      "source": [
        "### **Busca de Elemento**"
      ],
      "metadata": {
        "id": "TIVSRwZg301y"
      }
    },
    {
      "cell_type": "markdown",
      "source": [
        "Para busca de elementos nas Árvores a complexidade de tempo é O(log(n)), onde 'n' é o número de elementos a serem buscados. Devido a esse fato, não faz diferença se a busca é feita de forma ordenada crescente ou decrescente ou ainda randomizada.\n",
        "  ***Desde que para a BST, a árvore tenha sido gerada de forma aleatória e não em ordem crescente o que tornaria o problema O(n) afetando bastante o desempenho para qualquer método nesta árvore.***"
      ],
      "metadata": {
        "id": "j3byB_rHwTty"
      }
    },
    {
      "cell_type": "markdown",
      "source": [
        "#### Árvore Binária de Busca"
      ],
      "metadata": {
        "id": "D5lO0f_fNsuv"
      }
    },
    {
      "cell_type": "code",
      "source": [
        "def search_bst(bst,element,st=None,end=None):\n",
        "  start = time.process_time()\n",
        "  if len(element) > 1:\n",
        "    for index,row in df_base[st:end].iterrows():\n",
        "      root_bst.search(row[0])\n",
        "  end = time.process_time()\n",
        "  return round(end-start,4)\n",
        "\n",
        "tempo_search_bst_500 = search_bst(root_bst,df_base,4500,5000)\n",
        "tempo_search_bst_2500 = search_bst(root_bst,df_base,2500,5000)\n",
        "tempo_search_bst_5k = search_bst(root_bst,df_base,0,10000)"
      ],
      "metadata": {
        "id": "LwYzT0vt7_Gc"
      },
      "execution_count": null,
      "outputs": []
    },
    {
      "cell_type": "markdown",
      "source": [
        "#### Árvore AVL"
      ],
      "metadata": {
        "id": "K4vD9puGN0Mg"
      }
    },
    {
      "cell_type": "code",
      "source": [
        "def search_avl(avl,element,st=None,end=None):\n",
        "  start = time.process_time()\n",
        "  if len(element) > 1:\n",
        "    for index,row in df_base[st:end].iterrows():\n",
        "      root_avl.search(row[0])\n",
        "  end = time.process_time()\n",
        "  return round(end-start,4)\n",
        "tempo_search_avl_500 = search_avl(root_avl,df_base,4500,5000)\n",
        "tempo_search_avl_2500 = search_avl(root_avl,df_base,2500,5000)\n",
        "tempo_search_avl_5k = search_avl(root_avl,df_base,0,10000)"
      ],
      "metadata": {
        "id": "PDU43cP2NbH4"
      },
      "execution_count": null,
      "outputs": []
    },
    {
      "cell_type": "markdown",
      "source": [
        "###**Aplicação dos métodos nas árvores que não se tornaram listas ligadas**"
      ],
      "metadata": {
        "id": "TBXYDrVLpjI4"
      }
    },
    {
      "cell_type": "markdown",
      "source": [
        "### Busca Aleatória"
      ],
      "metadata": {
        "id": "rxhDIyo9pyjK"
      }
    },
    {
      "cell_type": "markdown",
      "source": [
        "####Árvore Binaria de Busca"
      ],
      "metadata": {
        "id": "HJyvmbYuq55N"
      }
    },
    {
      "cell_type": "code",
      "source": [
        "def search_bst_random(bst,element):\n",
        "  items = random.sample(range(len(df_base)),element)\n",
        "  start = time.process_time()\n",
        "\n",
        "  if element > 1:\n",
        "    for item in items:\n",
        "      key = df_base.iloc[item]['id']\n",
        "      bst.search(key)\n",
        "  else:\n",
        "    key = df_base.iloc[element]['id']\n",
        "    bst.search(key)\n",
        "  end = time.process_time()\n",
        "  return round(end-start,4)\n",
        "\n",
        "tempo_search_bst_5k_random = search_bst_random(bst2,5000)\n",
        "tempo_search_bst_25k_random = search_bst_random(bst2,25000)\n",
        "tempo_search_bst_50k_random = search_bst_random(bst2,50000)"
      ],
      "metadata": {
        "id": "1ESnwHy2pw0z"
      },
      "execution_count": null,
      "outputs": []
    },
    {
      "cell_type": "markdown",
      "source": [
        "####Árvore AVL"
      ],
      "metadata": {
        "id": "pf57eYIkq5N1"
      }
    },
    {
      "cell_type": "code",
      "source": [
        "def search_avl_random(avl,element):\n",
        "  items = random.sample(range(len(df_base)),element)\n",
        "  start = time.process_time()\n",
        "\n",
        "  if element > 1:\n",
        "    for item in items:\n",
        "      key = df_base.iloc[item]['id']\n",
        "      avl.search(key)\n",
        "  else:\n",
        "    key = df_base.iloc[element]['id']\n",
        "    avl.search(key)\n",
        "  end = time.process_time()\n",
        "  return round(end-start,4)\n",
        "\n",
        "tempo_search_avl_5k_random = search_avl_random(avl,5000)\n",
        "tempo_search_avl_25k_random = search_avl_random(avl,25000)\n",
        "tempo_search_avl_50k_random = search_avl_random(avl,50000)"
      ],
      "metadata": {
        "id": "zfEWsW7Cq40o"
      },
      "execution_count": null,
      "outputs": []
    },
    {
      "cell_type": "markdown",
      "source": [
        "### **Remoção de Elementos**"
      ],
      "metadata": {
        "id": "ZBfQLnoSUDVG"
      }
    },
    {
      "cell_type": "markdown",
      "source": [
        "#### **Remoção Ordenada Crescente**"
      ],
      "metadata": {
        "id": "IQQxupEszbeG"
      }
    },
    {
      "cell_type": "markdown",
      "source": [
        "### Árvore Binária de Busca"
      ],
      "metadata": {
        "id": "YeZkxUkIULnE"
      }
    },
    {
      "cell_type": "code",
      "source": [
        "def delete_bst(bst,element,st=None,end=None):\n",
        "  start = time.process_time()\n",
        "  if len(element) > 1:\n",
        "    for index,row in df_base[st:end].iterrows():\n",
        "      key = row[0]\n",
        "      data = row.to_dict()\n",
        "      bst.delete(key)\n",
        "  else:\n",
        "    key = element['id']\n",
        "    bst.delete(key)\n",
        "  end = time.process_time()\n",
        "  return round(end-start,4)\n",
        "\n",
        "tempo_delete_bst_500 = delete_bst(root_bst,df_base,2000,2500)\n",
        "tempo_delete_bst_2500 = delete_bst(root_bst,df_base,2500,5000)\n",
        "tempo_delete_bst_5k = delete_bst(root_bst,df_base,5000,15000)"
      ],
      "metadata": {
        "id": "E8d0TBxnRv2L"
      },
      "execution_count": null,
      "outputs": []
    },
    {
      "cell_type": "markdown",
      "source": [
        "### Árvore AVL"
      ],
      "metadata": {
        "id": "rv-GbBlYUVFQ"
      }
    },
    {
      "cell_type": "code",
      "source": [
        "def delete_avl(avl,element,st=None,end=None):\n",
        "  start = time.process_time()\n",
        "  if len(element) > 1:\n",
        "    for index,row in df_base[st:end].iterrows():\n",
        "      key = row[0]\n",
        "      avl.delete(key)\n",
        "  else:\n",
        "    key = element['id']\n",
        "    avl.delete(key)\n",
        "  end = time.process_time()\n",
        "  return round(end-start,4)\n",
        "\n",
        "tempo_delete_avl_500 = delete_avl(root_avl,df_base,2000,2500)\n",
        "tempo_delete_avl_2500 = delete_avl(root_avl,df_base,2500,5000)\n",
        "tempo_delete_avl_5k = delete_avl(root_avl,df_base,5000,15000)"
      ],
      "metadata": {
        "id": "AL85hJs_XiEF"
      },
      "execution_count": null,
      "outputs": []
    },
    {
      "cell_type": "markdown",
      "source": [
        "#### **Remoção Ordenada Decrescente**"
      ],
      "metadata": {
        "id": "QblSApqczfuL"
      }
    },
    {
      "cell_type": "markdown",
      "source": [
        "### Árvore Binária de Busca"
      ],
      "metadata": {
        "id": "OgHU3r34zuaV"
      }
    },
    {
      "cell_type": "code",
      "source": [
        "def delete_bst(bst,element,st=None,end=None):\n",
        "  start = time.process_time()\n",
        "  if len(element) > 1:\n",
        "    for index,row in df_base[st:end].iterrows():\n",
        "      key = row[0]\n",
        "      data = row.to_dict()\n",
        "      bst.delete(key)\n",
        "  else:\n",
        "    key = element['id']\n",
        "    bst.delete(key)\n",
        "  end = time.process_time()\n",
        "  return round(end-start,4)\n",
        "\n",
        "tempo_delete_bst_500_dec = delete_bst(root_bst,df_base,33000,32500)\n",
        "tempo_delete_bst_2500_dec = delete_bst(root_bst,df_base,32500,30000)\n",
        "tempo_delete_bst_5000_dec = delete_bst(root_bst,df_base,35000,25000)"
      ],
      "metadata": {
        "id": "v95F9Dm8zfhs"
      },
      "execution_count": null,
      "outputs": []
    },
    {
      "cell_type": "markdown",
      "source": [
        "### Árvore AVL"
      ],
      "metadata": {
        "id": "io8RmGBOzwrl"
      }
    },
    {
      "cell_type": "code",
      "source": [
        "def delete_avl(avl,element,st=None,end=None):\n",
        "  start = time.process_time()\n",
        "  if len(element) > 1:\n",
        "    for index,row in df_base[st:end].iterrows():\n",
        "      key = row[0]\n",
        "      avl.delete(key)\n",
        "  else:\n",
        "    key = element['id']\n",
        "    avl.delete(key)\n",
        "  end = time.process_time()\n",
        "  return round(end-start,4)\n",
        "\n",
        "tempo_delete_avl_500_dec = delete_avl(root_avl,df_base,33000,32500)\n",
        "tempo_delete_avl_2500_dec = delete_avl(root_avl,df_base,32500,30000)\n",
        "tempo_delete_avl_5k_dec = delete_avl(root_avl,df_base,35000,25000)"
      ],
      "metadata": {
        "id": "Ca-PHG2jzzEx"
      },
      "execution_count": null,
      "outputs": []
    },
    {
      "cell_type": "markdown",
      "source": [
        "#### **Remoção Randomizada**"
      ],
      "metadata": {
        "id": "HJY3_Dhco_Fp"
      }
    },
    {
      "cell_type": "code",
      "source": [
        "def delete_bst_random(bst,element):\n",
        "  items = random.sample(range(len(df_base)),element)\n",
        "  start = time.process_time()\n",
        "\n",
        "  if element > 1:\n",
        "    for item in items:\n",
        "      key = df_base.iloc[item]['id']\n",
        "      data = df_base.iloc[item].to_dict()\n",
        "      bst.delete(key)\n",
        "  else:\n",
        "\n",
        "    key = df_base.iloc[element]['id']\n",
        "    data = df_base.iloc[item].to_dict()\n",
        "    bst.delete(key)\n",
        "  end = time.process_time()\n",
        "  return round(end-start,4)\n",
        "\n",
        "\n",
        "tempo_delete_bst_500_random = delete_bst_random(root_bst,500)\n",
        "tempo_delete_bst_2500_random = delete_bst_random(root_bst,2500)\n",
        "tempo_delete_bst_10k_random = delete_bst_random(root_bst,10000)"
      ],
      "metadata": {
        "id": "rGn8bjpspvxj"
      },
      "execution_count": null,
      "outputs": []
    },
    {
      "cell_type": "code",
      "source": [
        "def delete_avl_random(avl,element):\n",
        "  items = random.sample(range(len(df_base)),element)\n",
        "  start = time.process_time()\n",
        "\n",
        "  if element > 1:\n",
        "    for item in items:\n",
        "      key = df_base.iloc[item]['id']\n",
        "      data = df_base.iloc[item].to_dict()\n",
        "      avl.delete(key)\n",
        "  else:\n",
        "\n",
        "    key = df_base.iloc[element]['id']\n",
        "    data = df_base.iloc[item].to_dict()\n",
        "    avl.delete(key,data)\n",
        "  end = time.process_time()\n",
        "  return round(end-start,4)\n",
        "\n",
        "\n",
        "tempo_delete_avl_500_random = delete_avl_random(root_avl,500)\n",
        "tempo_delete_avl_2500_random = delete_avl_random(root_avl,2500)\n",
        "tempo_delete_avl_10k_random = delete_avl_random(root_avl,10000)"
      ],
      "metadata": {
        "id": "iqe-hrXXo-3G"
      },
      "execution_count": null,
      "outputs": []
    },
    {
      "cell_type": "markdown",
      "source": [
        "## **Visualização de Desempenho**\n"
      ],
      "metadata": {
        "id": "BxtTCW5tigjO"
      }
    },
    {
      "cell_type": "markdown",
      "source": [
        "## Pandas Dataframe"
      ],
      "metadata": {
        "id": "o0gedGiIZuwi"
      }
    },
    {
      "cell_type": "code",
      "source": [
        "data_dict = {\n",
        "    'Busca_crescente_bst':[tempo_search_bst_500,tempo_search_bst_2500,tempo_search_bst_5k],\n",
        "    'Busca_crescente_avl':[tempo_search_avl_500, tempo_search_avl_2500,tempo_search_avl_5k ],\n",
        "    'Inserção_crescente_bst':[tempo_insert_bst_500,tempo_insert_bst_2500,tempo_insert_bst_10k],\n",
        "    'Inserção_crescente_avl':[tempo_insert_avl_500,tempo_insert_avl_2500,tempo_insert_avl_10k],\n",
        "    'Inserção_decrescente_bst':[tempo_insert_bst_500_dec,tempo_insert_bst_2500_dec,tempo_insert_bst_5000_dec,],\n",
        "    'Inserção_decrescente_avl':[tempo_insert_avl_500_dec,tempo_insert_avl_2500_dec,tempo_insert_avl_5k_dec],\n",
        "    'Inserção_randomizada_bst':[tempo_insert_bst_500_random, tempo_insert_bst_2500_random,tempo_insert_bst_10k_random],\n",
        "    'Inserção_randomizada_avl':[0, 0,tempo_insert_avl_10k_random],\n",
        "    'Remoção_bst_crescente':[tempo_delete_bst_500,tempo_delete_bst_2500,tempo_delete_bst_5k],\n",
        "    'Remoção_avl_crescente':[tempo_delete_avl_500,tempo_delete_avl_2500,tempo_delete_avl_5k],\n",
        "    'Remoção_bst_derescente':[tempo_delete_bst_500_dec,tempo_delete_bst_2500_dec,tempo_delete_bst_5000_dec],\n",
        "    'Remoção_avl_decrescente':[tempo_delete_avl_500_dec,tempo_delete_avl_2500_dec,tempo_delete_avl_5k_dec],\n",
        "    'Remoção_bst_randomizada':[tempo_delete_bst_500_random,tempo_delete_bst_2500_random,tempo_delete_bst_10k_random],\n",
        "    'Remoção_avl_randomizada':[tempo_delete_avl_500_random,tempo_delete_avl_2500_random,tempo_delete_avl_10k_random],\n",
        "\n",
        "}\n",
        "df_final = pd.DataFrame(data_dict,index=['500','2.5k','10k'])"
      ],
      "metadata": {
        "id": "cgQnoizmij1S"
      },
      "execution_count": null,
      "outputs": []
    },
    {
      "cell_type": "code",
      "source": [
        "df_final"
      ],
      "metadata": {
        "id": "clUJQeBxOxTB",
        "colab": {
          "base_uri": "https://localhost:8080/",
          "height": 163
        },
        "outputId": "b0f24b58-7a63-4ae5-8634-60a02387f430"
      },
      "execution_count": null,
      "outputs": [
        {
          "output_type": "execute_result",
          "data": {
            "text/plain": [
              "      Busca_crescente_bst  Busca_crescente_avl  Inserção_crescente_bst  \\\n",
              "500                0.6357               0.0165                  0.5985   \n",
              "2.5k               2.1799               0.0729                  6.1767   \n",
              "10k               15.6397               0.2931                 51.9076   \n",
              "\n",
              "      Inserção_crescente_avl  Inserção_decrescente_bst  \\\n",
              "500                   0.0387                    0.0012   \n",
              "2.5k                  0.1607                    0.0010   \n",
              "10k                   0.9209                    0.0005   \n",
              "\n",
              "      Inserção_decrescente_avl  Inserção_randomizada_bst  \\\n",
              "500                     0.0005                    1.7211   \n",
              "2.5k                    0.0002                    8.9900   \n",
              "10k                     0.0001                   35.9757   \n",
              "\n",
              "      Inserção_randomizada_avl  Remoção_bst_crescente  Remoção_avl_crescente  \\\n",
              "500                     0.0000                 0.2869                 0.0411   \n",
              "2.5k                    0.0000                 1.7929                 0.1146   \n",
              "10k                     1.9734                 8.1268                 0.4220   \n",
              "\n",
              "      Remoção_bst_derescente  Remoção_avl_decrescente  \\\n",
              "500                   0.0006                   0.0017   \n",
              "2.5k                  0.0003                   0.0003   \n",
              "10k                   0.0002                   0.0002   \n",
              "\n",
              "      Remoção_bst_randomizada  Remoção_avl_randomizada  \n",
              "500                    1.1881                   0.0982  \n",
              "2.5k                   4.9165                   0.4596  \n",
              "10k                   17.4000                   1.9732  "
            ],
            "text/html": [
              "\n",
              "  <div id=\"df-6f2ddf7f-aa8a-404d-886f-86e77807e87e\" class=\"colab-df-container\">\n",
              "    <div>\n",
              "<style scoped>\n",
              "    .dataframe tbody tr th:only-of-type {\n",
              "        vertical-align: middle;\n",
              "    }\n",
              "\n",
              "    .dataframe tbody tr th {\n",
              "        vertical-align: top;\n",
              "    }\n",
              "\n",
              "    .dataframe thead th {\n",
              "        text-align: right;\n",
              "    }\n",
              "</style>\n",
              "<table border=\"1\" class=\"dataframe\">\n",
              "  <thead>\n",
              "    <tr style=\"text-align: right;\">\n",
              "      <th></th>\n",
              "      <th>Busca_crescente_bst</th>\n",
              "      <th>Busca_crescente_avl</th>\n",
              "      <th>Inserção_crescente_bst</th>\n",
              "      <th>Inserção_crescente_avl</th>\n",
              "      <th>Inserção_decrescente_bst</th>\n",
              "      <th>Inserção_decrescente_avl</th>\n",
              "      <th>Inserção_randomizada_bst</th>\n",
              "      <th>Inserção_randomizada_avl</th>\n",
              "      <th>Remoção_bst_crescente</th>\n",
              "      <th>Remoção_avl_crescente</th>\n",
              "      <th>Remoção_bst_derescente</th>\n",
              "      <th>Remoção_avl_decrescente</th>\n",
              "      <th>Remoção_bst_randomizada</th>\n",
              "      <th>Remoção_avl_randomizada</th>\n",
              "    </tr>\n",
              "  </thead>\n",
              "  <tbody>\n",
              "    <tr>\n",
              "      <th>500</th>\n",
              "      <td>0.6357</td>\n",
              "      <td>0.0165</td>\n",
              "      <td>0.5985</td>\n",
              "      <td>0.0387</td>\n",
              "      <td>0.0012</td>\n",
              "      <td>0.0005</td>\n",
              "      <td>1.7211</td>\n",
              "      <td>0.0000</td>\n",
              "      <td>0.2869</td>\n",
              "      <td>0.0411</td>\n",
              "      <td>0.0006</td>\n",
              "      <td>0.0017</td>\n",
              "      <td>1.1881</td>\n",
              "      <td>0.0982</td>\n",
              "    </tr>\n",
              "    <tr>\n",
              "      <th>2.5k</th>\n",
              "      <td>2.1799</td>\n",
              "      <td>0.0729</td>\n",
              "      <td>6.1767</td>\n",
              "      <td>0.1607</td>\n",
              "      <td>0.0010</td>\n",
              "      <td>0.0002</td>\n",
              "      <td>8.9900</td>\n",
              "      <td>0.0000</td>\n",
              "      <td>1.7929</td>\n",
              "      <td>0.1146</td>\n",
              "      <td>0.0003</td>\n",
              "      <td>0.0003</td>\n",
              "      <td>4.9165</td>\n",
              "      <td>0.4596</td>\n",
              "    </tr>\n",
              "    <tr>\n",
              "      <th>10k</th>\n",
              "      <td>15.6397</td>\n",
              "      <td>0.2931</td>\n",
              "      <td>51.9076</td>\n",
              "      <td>0.9209</td>\n",
              "      <td>0.0005</td>\n",
              "      <td>0.0001</td>\n",
              "      <td>35.9757</td>\n",
              "      <td>1.9734</td>\n",
              "      <td>8.1268</td>\n",
              "      <td>0.4220</td>\n",
              "      <td>0.0002</td>\n",
              "      <td>0.0002</td>\n",
              "      <td>17.4000</td>\n",
              "      <td>1.9732</td>\n",
              "    </tr>\n",
              "  </tbody>\n",
              "</table>\n",
              "</div>\n",
              "    <div class=\"colab-df-buttons\">\n",
              "\n",
              "  <div class=\"colab-df-container\">\n",
              "    <button class=\"colab-df-convert\" onclick=\"convertToInteractive('df-6f2ddf7f-aa8a-404d-886f-86e77807e87e')\"\n",
              "            title=\"Convert this dataframe to an interactive table.\"\n",
              "            style=\"display:none;\">\n",
              "\n",
              "  <svg xmlns=\"http://www.w3.org/2000/svg\" height=\"24px\" viewBox=\"0 -960 960 960\">\n",
              "    <path d=\"M120-120v-720h720v720H120Zm60-500h600v-160H180v160Zm220 220h160v-160H400v160Zm0 220h160v-160H400v160ZM180-400h160v-160H180v160Zm440 0h160v-160H620v160ZM180-180h160v-160H180v160Zm440 0h160v-160H620v160Z\"/>\n",
              "  </svg>\n",
              "    </button>\n",
              "\n",
              "  <style>\n",
              "    .colab-df-container {\n",
              "      display:flex;\n",
              "      gap: 12px;\n",
              "    }\n",
              "\n",
              "    .colab-df-convert {\n",
              "      background-color: #E8F0FE;\n",
              "      border: none;\n",
              "      border-radius: 50%;\n",
              "      cursor: pointer;\n",
              "      display: none;\n",
              "      fill: #1967D2;\n",
              "      height: 32px;\n",
              "      padding: 0 0 0 0;\n",
              "      width: 32px;\n",
              "    }\n",
              "\n",
              "    .colab-df-convert:hover {\n",
              "      background-color: #E2EBFA;\n",
              "      box-shadow: 0px 1px 2px rgba(60, 64, 67, 0.3), 0px 1px 3px 1px rgba(60, 64, 67, 0.15);\n",
              "      fill: #174EA6;\n",
              "    }\n",
              "\n",
              "    .colab-df-buttons div {\n",
              "      margin-bottom: 4px;\n",
              "    }\n",
              "\n",
              "    [theme=dark] .colab-df-convert {\n",
              "      background-color: #3B4455;\n",
              "      fill: #D2E3FC;\n",
              "    }\n",
              "\n",
              "    [theme=dark] .colab-df-convert:hover {\n",
              "      background-color: #434B5C;\n",
              "      box-shadow: 0px 1px 3px 1px rgba(0, 0, 0, 0.15);\n",
              "      filter: drop-shadow(0px 1px 2px rgba(0, 0, 0, 0.3));\n",
              "      fill: #FFFFFF;\n",
              "    }\n",
              "  </style>\n",
              "\n",
              "    <script>\n",
              "      const buttonEl =\n",
              "        document.querySelector('#df-6f2ddf7f-aa8a-404d-886f-86e77807e87e button.colab-df-convert');\n",
              "      buttonEl.style.display =\n",
              "        google.colab.kernel.accessAllowed ? 'block' : 'none';\n",
              "\n",
              "      async function convertToInteractive(key) {\n",
              "        const element = document.querySelector('#df-6f2ddf7f-aa8a-404d-886f-86e77807e87e');\n",
              "        const dataTable =\n",
              "          await google.colab.kernel.invokeFunction('convertToInteractive',\n",
              "                                                    [key], {});\n",
              "        if (!dataTable) return;\n",
              "\n",
              "        const docLinkHtml = 'Like what you see? Visit the ' +\n",
              "          '<a target=\"_blank\" href=https://colab.research.google.com/notebooks/data_table.ipynb>data table notebook</a>'\n",
              "          + ' to learn more about interactive tables.';\n",
              "        element.innerHTML = '';\n",
              "        dataTable['output_type'] = 'display_data';\n",
              "        await google.colab.output.renderOutput(dataTable, element);\n",
              "        const docLink = document.createElement('div');\n",
              "        docLink.innerHTML = docLinkHtml;\n",
              "        element.appendChild(docLink);\n",
              "      }\n",
              "    </script>\n",
              "  </div>\n",
              "\n",
              "\n",
              "<div id=\"df-7f8cd71d-2ceb-4318-aa49-e4b18896243c\">\n",
              "  <button class=\"colab-df-quickchart\" onclick=\"quickchart('df-7f8cd71d-2ceb-4318-aa49-e4b18896243c')\"\n",
              "            title=\"Suggest charts.\"\n",
              "            style=\"display:none;\">\n",
              "\n",
              "<svg xmlns=\"http://www.w3.org/2000/svg\" height=\"24px\"viewBox=\"0 0 24 24\"\n",
              "     width=\"24px\">\n",
              "    <g>\n",
              "        <path d=\"M19 3H5c-1.1 0-2 .9-2 2v14c0 1.1.9 2 2 2h14c1.1 0 2-.9 2-2V5c0-1.1-.9-2-2-2zM9 17H7v-7h2v7zm4 0h-2V7h2v10zm4 0h-2v-4h2v4z\"/>\n",
              "    </g>\n",
              "</svg>\n",
              "  </button>\n",
              "\n",
              "<style>\n",
              "  .colab-df-quickchart {\n",
              "      --bg-color: #E8F0FE;\n",
              "      --fill-color: #1967D2;\n",
              "      --hover-bg-color: #E2EBFA;\n",
              "      --hover-fill-color: #174EA6;\n",
              "      --disabled-fill-color: #AAA;\n",
              "      --disabled-bg-color: #DDD;\n",
              "  }\n",
              "\n",
              "  [theme=dark] .colab-df-quickchart {\n",
              "      --bg-color: #3B4455;\n",
              "      --fill-color: #D2E3FC;\n",
              "      --hover-bg-color: #434B5C;\n",
              "      --hover-fill-color: #FFFFFF;\n",
              "      --disabled-bg-color: #3B4455;\n",
              "      --disabled-fill-color: #666;\n",
              "  }\n",
              "\n",
              "  .colab-df-quickchart {\n",
              "    background-color: var(--bg-color);\n",
              "    border: none;\n",
              "    border-radius: 50%;\n",
              "    cursor: pointer;\n",
              "    display: none;\n",
              "    fill: var(--fill-color);\n",
              "    height: 32px;\n",
              "    padding: 0;\n",
              "    width: 32px;\n",
              "  }\n",
              "\n",
              "  .colab-df-quickchart:hover {\n",
              "    background-color: var(--hover-bg-color);\n",
              "    box-shadow: 0 1px 2px rgba(60, 64, 67, 0.3), 0 1px 3px 1px rgba(60, 64, 67, 0.15);\n",
              "    fill: var(--button-hover-fill-color);\n",
              "  }\n",
              "\n",
              "  .colab-df-quickchart-complete:disabled,\n",
              "  .colab-df-quickchart-complete:disabled:hover {\n",
              "    background-color: var(--disabled-bg-color);\n",
              "    fill: var(--disabled-fill-color);\n",
              "    box-shadow: none;\n",
              "  }\n",
              "\n",
              "  .colab-df-spinner {\n",
              "    border: 2px solid var(--fill-color);\n",
              "    border-color: transparent;\n",
              "    border-bottom-color: var(--fill-color);\n",
              "    animation:\n",
              "      spin 1s steps(1) infinite;\n",
              "  }\n",
              "\n",
              "  @keyframes spin {\n",
              "    0% {\n",
              "      border-color: transparent;\n",
              "      border-bottom-color: var(--fill-color);\n",
              "      border-left-color: var(--fill-color);\n",
              "    }\n",
              "    20% {\n",
              "      border-color: transparent;\n",
              "      border-left-color: var(--fill-color);\n",
              "      border-top-color: var(--fill-color);\n",
              "    }\n",
              "    30% {\n",
              "      border-color: transparent;\n",
              "      border-left-color: var(--fill-color);\n",
              "      border-top-color: var(--fill-color);\n",
              "      border-right-color: var(--fill-color);\n",
              "    }\n",
              "    40% {\n",
              "      border-color: transparent;\n",
              "      border-right-color: var(--fill-color);\n",
              "      border-top-color: var(--fill-color);\n",
              "    }\n",
              "    60% {\n",
              "      border-color: transparent;\n",
              "      border-right-color: var(--fill-color);\n",
              "    }\n",
              "    80% {\n",
              "      border-color: transparent;\n",
              "      border-right-color: var(--fill-color);\n",
              "      border-bottom-color: var(--fill-color);\n",
              "    }\n",
              "    90% {\n",
              "      border-color: transparent;\n",
              "      border-bottom-color: var(--fill-color);\n",
              "    }\n",
              "  }\n",
              "</style>\n",
              "\n",
              "  <script>\n",
              "    async function quickchart(key) {\n",
              "      const quickchartButtonEl =\n",
              "        document.querySelector('#' + key + ' button');\n",
              "      quickchartButtonEl.disabled = true;  // To prevent multiple clicks.\n",
              "      quickchartButtonEl.classList.add('colab-df-spinner');\n",
              "      try {\n",
              "        const charts = await google.colab.kernel.invokeFunction(\n",
              "            'suggestCharts', [key], {});\n",
              "      } catch (error) {\n",
              "        console.error('Error during call to suggestCharts:', error);\n",
              "      }\n",
              "      quickchartButtonEl.classList.remove('colab-df-spinner');\n",
              "      quickchartButtonEl.classList.add('colab-df-quickchart-complete');\n",
              "    }\n",
              "    (() => {\n",
              "      let quickchartButtonEl =\n",
              "        document.querySelector('#df-7f8cd71d-2ceb-4318-aa49-e4b18896243c button');\n",
              "      quickchartButtonEl.style.display =\n",
              "        google.colab.kernel.accessAllowed ? 'block' : 'none';\n",
              "    })();\n",
              "  </script>\n",
              "</div>\n",
              "    </div>\n",
              "  </div>\n"
            ]
          },
          "metadata": {},
          "execution_count": 57
        }
      ]
    },
    {
      "cell_type": "code",
      "source": [
        "df_final.to_excel(\"time_result.xlsx\",sheet_name='results')"
      ],
      "metadata": {
        "id": "fp1xXoAlR7tX"
      },
      "execution_count": null,
      "outputs": []
    },
    {
      "cell_type": "markdown",
      "source": [
        "## Comparação na Busca"
      ],
      "metadata": {
        "id": "6QH-ZkPlZ0oz"
      }
    },
    {
      "cell_type": "code",
      "source": [
        "display(Image.open(\"Busca (1).jpg\"))"
      ],
      "metadata": {
        "colab": {
          "base_uri": "https://localhost:8080/",
          "height": 609
        },
        "id": "gSLXU1YCaNZY",
        "outputId": "dcc59030-f350-4e21-ac1b-9e5d3f6ecddb"
      },
      "execution_count": null,
      "outputs": [
        {
          "output_type": "display_data",
          "data": {
            "text/plain": [
              "<PIL.JpegImagePlugin.JpegImageFile image mode=RGB size=996x592>"
            ],
            "image/png": "[encoded data removed]"
          },
          "metadata": {}
        }
      ]
    },
    {
      "cell_type": "markdown",
      "source": [
        "## Comparação ao Inserir"
      ],
      "metadata": {
        "id": "ILGVOVUua30S"
      }
    },
    {
      "cell_type": "code",
      "source": [
        "display(Image.open(\"Inserção (1).jpg\"))"
      ],
      "metadata": {
        "colab": {
          "base_uri": "https://localhost:8080/",
          "height": 621
        },
        "id": "vwiAUZ4bagWe",
        "outputId": "219ae35e-e7ae-4d5d-b5c9-265b1c51185e"
      },
      "execution_count": null,
      "outputs": [
        {
          "output_type": "display_data",
          "data": {
            "text/plain": [
              "<PIL.JpegImagePlugin.JpegImageFile image mode=RGB size=1558x732>"
            ],
            "image/png": "[encoded data removed]"
          },
          "metadata": {}
        }
      ]
    },
    {
      "cell_type": "markdown",
      "source": [
        "## Comparação ao Remover"
      ],
      "metadata": {
        "id": "mJuE2Y5Xa9mC"
      }
    },
    {
      "cell_type": "code",
      "source": [
        "display(Image.open(\"Remoções (1).jpg\"))"
      ],
      "metadata": {
        "colab": {
          "base_uri": "https://localhost:8080/",
          "height": 641
        },
        "id": "5EaCm1s4a76c",
        "outputId": "ce26bc98-7c84-4933-8741-52e2b728e46f"
      },
      "execution_count": null,
      "outputs": [
        {
          "output_type": "display_data",
          "data": {
            "text/plain": [
              "<PIL.JpegImagePlugin.JpegImageFile image mode=RGB size=1552x754>"
            ],
            "image/png": "[encoded data removed]"
          },
          "metadata": {}
        }
      ]
    },
    {
      "cell_type": "code",
      "source": [],
      "metadata": {
        "id": "4k2YQio3bLRd"
      },
      "execution_count": null,
      "outputs": []
    }
  ]
}